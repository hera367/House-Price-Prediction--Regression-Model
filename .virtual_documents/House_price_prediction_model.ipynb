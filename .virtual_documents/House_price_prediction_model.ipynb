# Importing the libraries 
import pandas as pd
import numpy as np
from sklearn import metrics
import matplotlib.pyplot as plt
import seaborn as sns
import sklearn.datasets
from sklearn.model_selection import train_test_split
from xgboost import XGBRegressor
from sklearn import metrics


# pip install xgboost






from sklearn.datasets import fetch_california_housing

house_price_dataset = fetch_california_housing()

print(house_price_dataset)

# here, the variable 'target' is the label --> prices of house


# Loading the dataset to a pandas dataframe

house_price_dataframe = pd.DataFrame(house_price_dataset.data)
house_price_dataframe.head()


house_price_dataframe = pd.DataFrame(house_price_dataset.data, columns=house_price_dataset.feature_names)

print(house_price_dataframe.head())


# add the target column to the df

house_price_dataframe['Price'] = house_price_dataset.target
print(house_price_dataframe)


# cheching the no of rowas and column in each dataframe

house_price_dataframe.shape


# check for missing values

house_price_dataframe.isnull().sum()


# statistical measures of the dataset

house_price_dataframe.describe()





correlation = house_price_dataframe.corr()


# constructing a heatmap to understand the correlation

plt.figure(figsize = (10,10))
sns.heatmap(correlation, cbar = True, square = True, fmt = '.1f', annot = True, annot_kws = {'size':8}, cmap = 'Blues')





x = house_price_dataframe.drop(['Price'], axis =1)
y = house_price_dataframe['Price']


print(x.head())
print(y.head())





x_train, x_test, y_train, y_test = train_test_split(x, y, test_size =0.2, random_state = 2) # 80:20 splitting 


print(x.shape, x_train.shape, x_test.shape)





# loading the model

model = XGBRegressor()


# training the model with x_train

model.fit(x_train, y_train)





# accuracy for prediction on training data

training_data_prediction = model.predict(x_train)

print(training_data_prediction)


# R squared error

score_1 = metrics.r2_score(y_train, training_data_prediction)
print("R squared error: ", score_1)

# Mean absolute error

score_2 = metrics.mean_absolute_error(y_train, training_data_prediction)
print("Mean abs error: ", score_2)





# scatter plot

plt.scatter(y_train, training_data_prediction)
plt.xlabel("Actual Price")
plt.ylabel("Predicted Prices")
plt.title("Actual Prices vs Predicted Price")
plt.show()





# accuracy for prediction on test data

test_data_prediction  = model.predict(x_test)


# R squared error

score_1 = metrics.r2_score(y_test, test_data_prediction)
print("R squared error: ", score_1)

# Mean absolute error

score_2 = metrics.mean_absolute_error(y_test, test_data_prediction)
print("Mean abs error: ", score_2)
